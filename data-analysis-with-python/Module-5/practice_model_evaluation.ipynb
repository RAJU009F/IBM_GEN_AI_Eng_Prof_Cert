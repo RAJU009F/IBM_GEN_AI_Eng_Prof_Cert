{
  "metadata": {
    "kernelspec": {
      "name": "python",
      "display_name": "Python (Pyodide)",
      "language": "python"
    },
    "language_info": {
      "codemirror_mode": {
        "name": "python",
        "version": 3
      },
      "file_extension": ".py",
      "mimetype": "text/x-python",
      "name": "python",
      "nbconvert_exporter": "python",
      "pygments_lexer": "ipython3",
      "version": "3.8"
    },
    "prev_pub_hash": "bb489ec9aca943cb4162cab99cc484459268ace1e0e234166eaa63f6eee813d2"
  },
  "nbformat_minor": 4,
  "nbformat": 4,
  "cells": [
    {
      "cell_type": "markdown",
      "source": "<p style=\"text-align:center\">\n    <a href=\"https://skills.network\" target=\"_blank\">\n    <img src=\"https://cf-courses-data.s3.us.cloud-object-storage.appdomain.cloud/assets/logos/SN_web_lightmode.png\" width=\"300\" alt=\"Skills Network Logo\">\n    </a>\n</p>\n",
      "metadata": {}
    },
    {
      "cell_type": "markdown",
      "source": "# **Hands-on Practice Lab: Model Evaluation and Refinement**\n\nEstimated time needed: **45** minutes\n\nIn this lab, you will use the skills acquired throughout the module, and try to refine your model's performance in predicting the price of a laptop, given the attribute values.\n",
      "metadata": {}
    },
    {
      "cell_type": "markdown",
      "source": "# Objectives\n\nAfter completing this lab you will be able to:\n\n - Use training, testing and cross validation to improve the performance of the dataset. \n - Identify the point of overfitting of a model\n - Use Ridge Regression to identify the change in performance of a model based on its hyperparameters\n - Use Grid Search to identify the best performing model using different hyperparameters\n",
      "metadata": {}
    },
    {
      "cell_type": "markdown",
      "source": "# Setup\n",
      "metadata": {}
    },
    {
      "cell_type": "markdown",
      "source": "For this lab, we will be using the following libraries:\n\n* `skillsnetwork` for downloading the dataset\n*   [`pandas`](https://pandas.pydata.org/?utm_medium=Exinfluencer&utm_source=Exinfluencer&utm_content=000026UJ&utm_term=10006555&utm_id=NA-SkillsNetwork-Channel-SkillsNetworkCoursesIBMML0187ENSkillsNetwork31430127-2021-01-01) for managing the data.\n*   [`numpy`](https://numpy.org/?utm_medium=Exinfluencer&utm_source=Exinfluencer&utm_content=000026UJ&utm_term=10006555&utm_id=NA-SkillsNetwork-Channel-SkillsNetworkCoursesIBMML0187ENSkillsNetwork31430127-2021-01-01) for mathematical operations.\n*   [`sklearn`](https://scikit-learn.org/stable/?utm_medium=Exinfluencer&utm_source=Exinfluencer&utm_content=000026UJ&utm_term=10006555&utm_id=NA-SkillsNetwork-Channel-SkillsNetworkCoursesIBMML0187ENSkillsNetwork31430127-2021-01-01) for machine learning and machine-learning-pipeline related functions.\n*   [`seaborn`](https://seaborn.pydata.org/?utm_medium=Exinfluencer&utm_source=Exinfluencer&utm_content=000026UJ&utm_term=10006555&utm_id=NA-SkillsNetwork-Channel-SkillsNetworkCoursesIBMML0187ENSkillsNetwork31430127-2021-01-01) for visualizing the data.\n*   [`matplotlib`](https://matplotlib.org/?utm_medium=Exinfluencer&utm_source=Exinfluencer&utm_content=000026UJ&utm_term=10006555&utm_id=NA-SkillsNetwork-Channel-SkillsNetworkCoursesIBMML0187ENSkillsNetwork31430127-2021-01-01) for additional plotting tools.\n",
      "metadata": {}
    },
    {
      "cell_type": "markdown",
      "source": "### Installing Required Libraries\n\nThe following required libraries are pre-installed in the Skills Network Labs environment. However, if you run this notebook commands in a different Jupyter environment (e.g. Watson Studio or Ananconda), you will need to install these libraries by removing the `#` sign before `%pip` in the code cell below.\n",
      "metadata": {}
    },
    {
      "cell_type": "markdown",
      "source": "The following required libraries are __not__ pre-installed in the Skills Network Labs environment. __You will need to run the following cell__ to install them:\n",
      "metadata": {}
    },
    {
      "cell_type": "code",
      "source": "import piplite\nawait piplite.install('seaborn')",
      "metadata": {
        "trusted": true
      },
      "outputs": [],
      "execution_count": 1
    },
    {
      "cell_type": "markdown",
      "source": "### Importing Required Libraries\n\n_We recommend you import all required libraries in one place (here):_\n",
      "metadata": {}
    },
    {
      "cell_type": "code",
      "source": "from tqdm import tqdm\nimport numpy as np\nimport pandas as pd\nimport matplotlib.pyplot as plt\nimport seaborn as sns\n%matplotlib inline\nfrom sklearn.model_selection import train_test_split, cross_val_score, GridSearchCV\nfrom sklearn.linear_model import LinearRegression, Ridge\nfrom sklearn.preprocessing import PolynomialFeatures",
      "metadata": {
        "trusted": true
      },
      "outputs": [
        {
          "name": "stderr",
          "text": "<ipython-input-2-4b1dc37464fb>:3: DeprecationWarning: \nPyarrow will become a required dependency of pandas in the next major release of pandas (pandas 3.0),\n(to allow more performant data types, such as the Arrow string type, and better interoperability with other libraries)\nbut was not found to be installed on your system.\nIf this would cause problems for you,\nplease provide us feedback at https://github.com/pandas-dev/pandas/issues/54466\n        \n  import pandas as pd\n",
          "output_type": "stream"
        }
      ],
      "execution_count": 2
    },
    {
      "cell_type": "markdown",
      "source": "# Importing the Dataset\n\nRun the cell below to donwload the dataset into the console.\n",
      "metadata": {}
    },
    {
      "cell_type": "code",
      "source": "from pyodide.http import pyfetch\n\nasync def download(url, filename):\n    response = await pyfetch(url)\n    if response.status == 200:\n        with open(filename, \"wb\") as f:\n            f.write(await response.bytes())",
      "metadata": {
        "trusted": true
      },
      "outputs": [],
      "execution_count": 4
    },
    {
      "cell_type": "code",
      "source": "filepath = 'https://cf-courses-data.s3.us.cloud-object-storage.appdomain.cloud/IBMDeveloperSkillsNetwork-DA0101EN-Coursera/laptop_pricing_dataset_mod2.csv'",
      "metadata": {
        "trusted": true
      },
      "outputs": [],
      "execution_count": 5
    },
    {
      "cell_type": "code",
      "source": "await download(filepath, \"laptops.csv\")\nfile_name=\"laptops.csv\"",
      "metadata": {
        "trusted": true
      },
      "outputs": [],
      "execution_count": 6
    },
    {
      "cell_type": "code",
      "source": "df = pd.read_csv(file_name, header=0)",
      "metadata": {
        "trusted": true
      },
      "outputs": [],
      "execution_count": 8
    },
    {
      "cell_type": "markdown",
      "source": "> Note: This version of the lab is working on JupyterLite, which requires the dataset to be downloaded to the interface.While working on the downloaded version of this notebook on their local machines(Jupyter Anaconda), the learners can simply **skip the steps above,** and simply use the URL directly in the `pandas.read_csv()` function. You can uncomment and run the statements in the cell below.\n",
      "metadata": {}
    },
    {
      "cell_type": "markdown",
      "source": "Import the data set into a data frame.\n",
      "metadata": {}
    },
    {
      "cell_type": "code",
      "source": "#filepath = 'https://cf-courses-data.s3.us.cloud-object-storage.appdomain.cloud/IBMDeveloperSkillsNetwork-DA0101EN-Coursera/laptop_pricing_dataset_mod2.csv'\n#df = pd.read_csv(filepath, header=None)",
      "metadata": {},
      "outputs": [],
      "execution_count": null
    },
    {
      "cell_type": "markdown",
      "source": "Print the value of df.head(). \n",
      "metadata": {}
    },
    {
      "cell_type": "code",
      "source": "df.head()",
      "metadata": {
        "trusted": true
      },
      "outputs": [
        {
          "execution_count": 9,
          "output_type": "execute_result",
          "data": {
            "text/plain": "   Unnamed: 0.1  Unnamed: 0 Manufacturer  Category  GPU  OS  CPU_core  \\\n0             0           0         Acer         4    2   1         5   \n1             1           1         Dell         3    1   1         3   \n2             2           2         Dell         3    1   1         7   \n3             3           3         Dell         4    2   1         5   \n4             4           4           HP         4    2   1         7   \n\n   Screen_Size_inch  CPU_frequency  RAM_GB  Storage_GB_SSD  Weight_pounds  \\\n0              14.0       0.551724       8             256        3.52800   \n1              15.6       0.689655       4             256        4.85100   \n2              15.6       0.931034       8             256        4.85100   \n3              13.3       0.551724       8             128        2.69010   \n4              15.6       0.620690       8             256        4.21155   \n\n   Price Price-binned  Screen-Full_HD  Screen-IPS_panel  \n0    978          Low               0                 1  \n1    634          Low               1                 0  \n2    946          Low               1                 0  \n3   1244          Low               0                 1  \n4    837          Low               1                 0  ",
            "text/html": "<div>\n<style scoped>\n    .dataframe tbody tr th:only-of-type {\n        vertical-align: middle;\n    }\n\n    .dataframe tbody tr th {\n        vertical-align: top;\n    }\n\n    .dataframe thead th {\n        text-align: right;\n    }\n</style>\n<table border=\"1\" class=\"dataframe\">\n  <thead>\n    <tr style=\"text-align: right;\">\n      <th></th>\n      <th>Unnamed: 0.1</th>\n      <th>Unnamed: 0</th>\n      <th>Manufacturer</th>\n      <th>Category</th>\n      <th>GPU</th>\n      <th>OS</th>\n      <th>CPU_core</th>\n      <th>Screen_Size_inch</th>\n      <th>CPU_frequency</th>\n      <th>RAM_GB</th>\n      <th>Storage_GB_SSD</th>\n      <th>Weight_pounds</th>\n      <th>Price</th>\n      <th>Price-binned</th>\n      <th>Screen-Full_HD</th>\n      <th>Screen-IPS_panel</th>\n    </tr>\n  </thead>\n  <tbody>\n    <tr>\n      <th>0</th>\n      <td>0</td>\n      <td>0</td>\n      <td>Acer</td>\n      <td>4</td>\n      <td>2</td>\n      <td>1</td>\n      <td>5</td>\n      <td>14.0</td>\n      <td>0.551724</td>\n      <td>8</td>\n      <td>256</td>\n      <td>3.52800</td>\n      <td>978</td>\n      <td>Low</td>\n      <td>0</td>\n      <td>1</td>\n    </tr>\n    <tr>\n      <th>1</th>\n      <td>1</td>\n      <td>1</td>\n      <td>Dell</td>\n      <td>3</td>\n      <td>1</td>\n      <td>1</td>\n      <td>3</td>\n      <td>15.6</td>\n      <td>0.689655</td>\n      <td>4</td>\n      <td>256</td>\n      <td>4.85100</td>\n      <td>634</td>\n      <td>Low</td>\n      <td>1</td>\n      <td>0</td>\n    </tr>\n    <tr>\n      <th>2</th>\n      <td>2</td>\n      <td>2</td>\n      <td>Dell</td>\n      <td>3</td>\n      <td>1</td>\n      <td>1</td>\n      <td>7</td>\n      <td>15.6</td>\n      <td>0.931034</td>\n      <td>8</td>\n      <td>256</td>\n      <td>4.85100</td>\n      <td>946</td>\n      <td>Low</td>\n      <td>1</td>\n      <td>0</td>\n    </tr>\n    <tr>\n      <th>3</th>\n      <td>3</td>\n      <td>3</td>\n      <td>Dell</td>\n      <td>4</td>\n      <td>2</td>\n      <td>1</td>\n      <td>5</td>\n      <td>13.3</td>\n      <td>0.551724</td>\n      <td>8</td>\n      <td>128</td>\n      <td>2.69010</td>\n      <td>1244</td>\n      <td>Low</td>\n      <td>0</td>\n      <td>1</td>\n    </tr>\n    <tr>\n      <th>4</th>\n      <td>4</td>\n      <td>4</td>\n      <td>HP</td>\n      <td>4</td>\n      <td>2</td>\n      <td>1</td>\n      <td>7</td>\n      <td>15.6</td>\n      <td>0.620690</td>\n      <td>8</td>\n      <td>256</td>\n      <td>4.21155</td>\n      <td>837</td>\n      <td>Low</td>\n      <td>1</td>\n      <td>0</td>\n    </tr>\n  </tbody>\n</table>\n</div>"
          },
          "metadata": {}
        }
      ],
      "execution_count": 9
    },
    {
      "cell_type": "markdown",
      "source": "Drop the two unnecessary columns that have been added into the file, 'Unnamed: 0' and 'Unnamed: 0.1'. Use drop to delete these columns.\n",
      "metadata": {}
    },
    {
      "cell_type": "code",
      "source": "df.drop(['Unnamed: 0', 'Unnamed: 0.1'], axis=1, inplace=True)",
      "metadata": {
        "trusted": true
      },
      "outputs": [],
      "execution_count": 10
    },
    {
      "cell_type": "markdown",
      "source": "# Task 1 : Using Cross validation to improve the model\n\nDivide the dataset into x_data and y_data parameters. Here y_data is the \"Price\" attribute, and x_data has all other attributes in the data set.\n",
      "metadata": {}
    },
    {
      "cell_type": "code",
      "source": "# Write your code below and press Shift+Enter to execute \nx_data  = df.drop('Price', axis=1)\ny_data = df['Price']",
      "metadata": {
        "trusted": true
      },
      "outputs": [],
      "execution_count": 11
    },
    {
      "cell_type": "markdown",
      "source": "<details><summary>Click here for the solution</summary>\n\n```python\ny_data = df['Price']\nx_data = df.drop('Price',axis=1)\n```\n\n</details>\n",
      "metadata": {}
    },
    {
      "cell_type": "markdown",
      "source": "Split the data set into training and testing subests such that you reserve 10% of the data set for testing purposes.\n",
      "metadata": {}
    },
    {
      "cell_type": "code",
      "source": "# Write your code below and press Shift+Enter to execute \nx_train,x_test, y_train,   y_test =  train_test_split(x_data, y_data, test_size=.1, random_state=0)\n",
      "metadata": {
        "trusted": true
      },
      "outputs": [],
      "execution_count": 14
    },
    {
      "cell_type": "code",
      "source": "print(x_train.shape)\nprint(x_test.shape)",
      "metadata": {
        "trusted": true
      },
      "outputs": [
        {
          "name": "stdout",
          "text": "(214, 13)\n(24, 13)\n",
          "output_type": "stream"
        }
      ],
      "execution_count": 15
    },
    {
      "cell_type": "markdown",
      "source": "<details><summary>Click here for the solution</summary>\n\n```python\nx_train, x_test, y_train, y_test = train_test_split(x_data, y_data, test_size=0.10, random_state=1)\nprint(\"number of test samples :\", x_test.shape[0])\nprint(\"number of training samples:\",x_train.shape[0])\n```\n\n</details>\n",
      "metadata": {}
    },
    {
      "cell_type": "markdown",
      "source": "Create a single variable linear regression model using \"CPU_frequency\" parameter. Print the R^2 value of this model for the training and testing subsets.\n",
      "metadata": {}
    },
    {
      "cell_type": "code",
      "source": "# Write your code below and press Shift+Enter to execute \nlr1 =  LinearRegression()\nlr1.fit(x_train[[\"CPU_frequency\"]], y_train)\n",
      "metadata": {
        "trusted": true
      },
      "outputs": [
        {
          "execution_count": 16,
          "output_type": "execute_result",
          "data": {
            "text/plain": "LinearRegression()",
            "text/html": "<style>#sk-container-id-1 {\n  /* Definition of color scheme common for light and dark mode */\n  --sklearn-color-text: black;\n  --sklearn-color-line: gray;\n  /* Definition of color scheme for unfitted estimators */\n  --sklearn-color-unfitted-level-0: #fff5e6;\n  --sklearn-color-unfitted-level-1: #f6e4d2;\n  --sklearn-color-unfitted-level-2: #ffe0b3;\n  --sklearn-color-unfitted-level-3: chocolate;\n  /* Definition of color scheme for fitted estimators */\n  --sklearn-color-fitted-level-0: #f0f8ff;\n  --sklearn-color-fitted-level-1: #d4ebff;\n  --sklearn-color-fitted-level-2: #b3dbfd;\n  --sklearn-color-fitted-level-3: cornflowerblue;\n\n  /* Specific color for light theme */\n  --sklearn-color-text-on-default-background: var(--sg-text-color, var(--theme-code-foreground, var(--jp-content-font-color1, black)));\n  --sklearn-color-background: var(--sg-background-color, var(--theme-background, var(--jp-layout-color0, white)));\n  --sklearn-color-border-box: var(--sg-text-color, var(--theme-code-foreground, var(--jp-content-font-color1, black)));\n  --sklearn-color-icon: #696969;\n\n  @media (prefers-color-scheme: dark) {\n    /* Redefinition of color scheme for dark theme */\n    --sklearn-color-text-on-default-background: var(--sg-text-color, var(--theme-code-foreground, var(--jp-content-font-color1, white)));\n    --sklearn-color-background: var(--sg-background-color, var(--theme-background, var(--jp-layout-color0, #111)));\n    --sklearn-color-border-box: var(--sg-text-color, var(--theme-code-foreground, var(--jp-content-font-color1, white)));\n    --sklearn-color-icon: #878787;\n  }\n}\n\n#sk-container-id-1 {\n  color: var(--sklearn-color-text);\n}\n\n#sk-container-id-1 pre {\n  padding: 0;\n}\n\n#sk-container-id-1 input.sk-hidden--visually {\n  border: 0;\n  clip: rect(1px 1px 1px 1px);\n  clip: rect(1px, 1px, 1px, 1px);\n  height: 1px;\n  margin: -1px;\n  overflow: hidden;\n  padding: 0;\n  position: absolute;\n  width: 1px;\n}\n\n#sk-container-id-1 div.sk-dashed-wrapped {\n  border: 1px dashed var(--sklearn-color-line);\n  margin: 0 0.4em 0.5em 0.4em;\n  box-sizing: border-box;\n  padding-bottom: 0.4em;\n  background-color: var(--sklearn-color-background);\n}\n\n#sk-container-id-1 div.sk-container {\n  /* jupyter's `normalize.less` sets `[hidden] { display: none; }`\n     but bootstrap.min.css set `[hidden] { display: none !important; }`\n     so we also need the `!important` here to be able to override the\n     default hidden behavior on the sphinx rendered scikit-learn.org.\n     See: https://github.com/scikit-learn/scikit-learn/issues/21755 */\n  display: inline-block !important;\n  position: relative;\n}\n\n#sk-container-id-1 div.sk-text-repr-fallback {\n  display: none;\n}\n\ndiv.sk-parallel-item,\ndiv.sk-serial,\ndiv.sk-item {\n  /* draw centered vertical line to link estimators */\n  background-image: linear-gradient(var(--sklearn-color-text-on-default-background), var(--sklearn-color-text-on-default-background));\n  background-size: 2px 100%;\n  background-repeat: no-repeat;\n  background-position: center center;\n}\n\n/* Parallel-specific style estimator block */\n\n#sk-container-id-1 div.sk-parallel-item::after {\n  content: \"\";\n  width: 100%;\n  border-bottom: 2px solid var(--sklearn-color-text-on-default-background);\n  flex-grow: 1;\n}\n\n#sk-container-id-1 div.sk-parallel {\n  display: flex;\n  align-items: stretch;\n  justify-content: center;\n  background-color: var(--sklearn-color-background);\n  position: relative;\n}\n\n#sk-container-id-1 div.sk-parallel-item {\n  display: flex;\n  flex-direction: column;\n}\n\n#sk-container-id-1 div.sk-parallel-item:first-child::after {\n  align-self: flex-end;\n  width: 50%;\n}\n\n#sk-container-id-1 div.sk-parallel-item:last-child::after {\n  align-self: flex-start;\n  width: 50%;\n}\n\n#sk-container-id-1 div.sk-parallel-item:only-child::after {\n  width: 0;\n}\n\n/* Serial-specific style estimator block */\n\n#sk-container-id-1 div.sk-serial {\n  display: flex;\n  flex-direction: column;\n  align-items: center;\n  background-color: var(--sklearn-color-background);\n  padding-right: 1em;\n  padding-left: 1em;\n}\n\n\n/* Toggleable style: style used for estimator/Pipeline/ColumnTransformer box that is\nclickable and can be expanded/collapsed.\n- Pipeline and ColumnTransformer use this feature and define the default style\n- Estimators will overwrite some part of the style using the `sk-estimator` class\n*/\n\n/* Pipeline and ColumnTransformer style (default) */\n\n#sk-container-id-1 div.sk-toggleable {\n  /* Default theme specific background. It is overwritten whether we have a\n  specific estimator or a Pipeline/ColumnTransformer */\n  background-color: var(--sklearn-color-background);\n}\n\n/* Toggleable label */\n#sk-container-id-1 label.sk-toggleable__label {\n  cursor: pointer;\n  display: block;\n  width: 100%;\n  margin-bottom: 0;\n  padding: 0.5em;\n  box-sizing: border-box;\n  text-align: center;\n}\n\n#sk-container-id-1 label.sk-toggleable__label-arrow:before {\n  /* Arrow on the left of the label */\n  content: \"▸\";\n  float: left;\n  margin-right: 0.25em;\n  color: var(--sklearn-color-icon);\n}\n\n#sk-container-id-1 label.sk-toggleable__label-arrow:hover:before {\n  color: var(--sklearn-color-text);\n}\n\n/* Toggleable content - dropdown */\n\n#sk-container-id-1 div.sk-toggleable__content {\n  max-height: 0;\n  max-width: 0;\n  overflow: hidden;\n  text-align: left;\n  /* unfitted */\n  background-color: var(--sklearn-color-unfitted-level-0);\n}\n\n#sk-container-id-1 div.sk-toggleable__content.fitted {\n  /* fitted */\n  background-color: var(--sklearn-color-fitted-level-0);\n}\n\n#sk-container-id-1 div.sk-toggleable__content pre {\n  margin: 0.2em;\n  border-radius: 0.25em;\n  color: var(--sklearn-color-text);\n  /* unfitted */\n  background-color: var(--sklearn-color-unfitted-level-0);\n}\n\n#sk-container-id-1 div.sk-toggleable__content.fitted pre {\n  /* unfitted */\n  background-color: var(--sklearn-color-fitted-level-0);\n}\n\n#sk-container-id-1 input.sk-toggleable__control:checked~div.sk-toggleable__content {\n  /* Expand drop-down */\n  max-height: 200px;\n  max-width: 100%;\n  overflow: auto;\n}\n\n#sk-container-id-1 input.sk-toggleable__control:checked~label.sk-toggleable__label-arrow:before {\n  content: \"▾\";\n}\n\n/* Pipeline/ColumnTransformer-specific style */\n\n#sk-container-id-1 div.sk-label input.sk-toggleable__control:checked~label.sk-toggleable__label {\n  color: var(--sklearn-color-text);\n  background-color: var(--sklearn-color-unfitted-level-2);\n}\n\n#sk-container-id-1 div.sk-label.fitted input.sk-toggleable__control:checked~label.sk-toggleable__label {\n  background-color: var(--sklearn-color-fitted-level-2);\n}\n\n/* Estimator-specific style */\n\n/* Colorize estimator box */\n#sk-container-id-1 div.sk-estimator input.sk-toggleable__control:checked~label.sk-toggleable__label {\n  /* unfitted */\n  background-color: var(--sklearn-color-unfitted-level-2);\n}\n\n#sk-container-id-1 div.sk-estimator.fitted input.sk-toggleable__control:checked~label.sk-toggleable__label {\n  /* fitted */\n  background-color: var(--sklearn-color-fitted-level-2);\n}\n\n#sk-container-id-1 div.sk-label label.sk-toggleable__label,\n#sk-container-id-1 div.sk-label label {\n  /* The background is the default theme color */\n  color: var(--sklearn-color-text-on-default-background);\n}\n\n/* On hover, darken the color of the background */\n#sk-container-id-1 div.sk-label:hover label.sk-toggleable__label {\n  color: var(--sklearn-color-text);\n  background-color: var(--sklearn-color-unfitted-level-2);\n}\n\n/* Label box, darken color on hover, fitted */\n#sk-container-id-1 div.sk-label.fitted:hover label.sk-toggleable__label.fitted {\n  color: var(--sklearn-color-text);\n  background-color: var(--sklearn-color-fitted-level-2);\n}\n\n/* Estimator label */\n\n#sk-container-id-1 div.sk-label label {\n  font-family: monospace;\n  font-weight: bold;\n  display: inline-block;\n  line-height: 1.2em;\n}\n\n#sk-container-id-1 div.sk-label-container {\n  text-align: center;\n}\n\n/* Estimator-specific */\n#sk-container-id-1 div.sk-estimator {\n  font-family: monospace;\n  border: 1px dotted var(--sklearn-color-border-box);\n  border-radius: 0.25em;\n  box-sizing: border-box;\n  margin-bottom: 0.5em;\n  /* unfitted */\n  background-color: var(--sklearn-color-unfitted-level-0);\n}\n\n#sk-container-id-1 div.sk-estimator.fitted {\n  /* fitted */\n  background-color: var(--sklearn-color-fitted-level-0);\n}\n\n/* on hover */\n#sk-container-id-1 div.sk-estimator:hover {\n  /* unfitted */\n  background-color: var(--sklearn-color-unfitted-level-2);\n}\n\n#sk-container-id-1 div.sk-estimator.fitted:hover {\n  /* fitted */\n  background-color: var(--sklearn-color-fitted-level-2);\n}\n\n/* Specification for estimator info (e.g. \"i\" and \"?\") */\n\n/* Common style for \"i\" and \"?\" */\n\n.sk-estimator-doc-link,\na:link.sk-estimator-doc-link,\na:visited.sk-estimator-doc-link {\n  float: right;\n  font-size: smaller;\n  line-height: 1em;\n  font-family: monospace;\n  background-color: var(--sklearn-color-background);\n  border-radius: 1em;\n  height: 1em;\n  width: 1em;\n  text-decoration: none !important;\n  margin-left: 1ex;\n  /* unfitted */\n  border: var(--sklearn-color-unfitted-level-1) 1pt solid;\n  color: var(--sklearn-color-unfitted-level-1);\n}\n\n.sk-estimator-doc-link.fitted,\na:link.sk-estimator-doc-link.fitted,\na:visited.sk-estimator-doc-link.fitted {\n  /* fitted */\n  border: var(--sklearn-color-fitted-level-1) 1pt solid;\n  color: var(--sklearn-color-fitted-level-1);\n}\n\n/* On hover */\ndiv.sk-estimator:hover .sk-estimator-doc-link:hover,\n.sk-estimator-doc-link:hover,\ndiv.sk-label-container:hover .sk-estimator-doc-link:hover,\n.sk-estimator-doc-link:hover {\n  /* unfitted */\n  background-color: var(--sklearn-color-unfitted-level-3);\n  color: var(--sklearn-color-background);\n  text-decoration: none;\n}\n\ndiv.sk-estimator.fitted:hover .sk-estimator-doc-link.fitted:hover,\n.sk-estimator-doc-link.fitted:hover,\ndiv.sk-label-container:hover .sk-estimator-doc-link.fitted:hover,\n.sk-estimator-doc-link.fitted:hover {\n  /* fitted */\n  background-color: var(--sklearn-color-fitted-level-3);\n  color: var(--sklearn-color-background);\n  text-decoration: none;\n}\n\n/* Span, style for the box shown on hovering the info icon */\n.sk-estimator-doc-link span {\n  display: none;\n  z-index: 9999;\n  position: relative;\n  font-weight: normal;\n  right: .2ex;\n  padding: .5ex;\n  margin: .5ex;\n  width: min-content;\n  min-width: 20ex;\n  max-width: 50ex;\n  color: var(--sklearn-color-text);\n  box-shadow: 2pt 2pt 4pt #999;\n  /* unfitted */\n  background: var(--sklearn-color-unfitted-level-0);\n  border: .5pt solid var(--sklearn-color-unfitted-level-3);\n}\n\n.sk-estimator-doc-link.fitted span {\n  /* fitted */\n  background: var(--sklearn-color-fitted-level-0);\n  border: var(--sklearn-color-fitted-level-3);\n}\n\n.sk-estimator-doc-link:hover span {\n  display: block;\n}\n\n/* \"?\"-specific style due to the `<a>` HTML tag */\n\n#sk-container-id-1 a.estimator_doc_link {\n  float: right;\n  font-size: 1rem;\n  line-height: 1em;\n  font-family: monospace;\n  background-color: var(--sklearn-color-background);\n  border-radius: 1rem;\n  height: 1rem;\n  width: 1rem;\n  text-decoration: none;\n  /* unfitted */\n  color: var(--sklearn-color-unfitted-level-1);\n  border: var(--sklearn-color-unfitted-level-1) 1pt solid;\n}\n\n#sk-container-id-1 a.estimator_doc_link.fitted {\n  /* fitted */\n  border: var(--sklearn-color-fitted-level-1) 1pt solid;\n  color: var(--sklearn-color-fitted-level-1);\n}\n\n/* On hover */\n#sk-container-id-1 a.estimator_doc_link:hover {\n  /* unfitted */\n  background-color: var(--sklearn-color-unfitted-level-3);\n  color: var(--sklearn-color-background);\n  text-decoration: none;\n}\n\n#sk-container-id-1 a.estimator_doc_link.fitted:hover {\n  /* fitted */\n  background-color: var(--sklearn-color-fitted-level-3);\n}\n</style><div id=\"sk-container-id-1\" class=\"sk-top-container\"><div class=\"sk-text-repr-fallback\"><pre>LinearRegression()</pre><b>In a Jupyter environment, please rerun this cell to show the HTML representation or trust the notebook. <br />On GitHub, the HTML representation is unable to render, please try loading this page with nbviewer.org.</b></div><div class=\"sk-container\" hidden><div class=\"sk-item\"><div class=\"sk-estimator fitted sk-toggleable\"><input class=\"sk-toggleable__control sk-hidden--visually\" id=\"sk-estimator-id-1\" type=\"checkbox\" checked><label for=\"sk-estimator-id-1\" class=\"sk-toggleable__label fitted sk-toggleable__label-arrow fitted\">&nbsp;&nbsp;LinearRegression<a class=\"sk-estimator-doc-link fitted\" rel=\"noreferrer\" target=\"_blank\" href=\"https://scikit-learn.org/1.4/modules/generated/sklearn.linear_model.LinearRegression.html\">?<span>Documentation for LinearRegression</span></a><span class=\"sk-estimator-doc-link fitted\">i<span>Fitted</span></span></label><div class=\"sk-toggleable__content fitted\"><pre>LinearRegression()</pre></div> </div></div></div></div>"
          },
          "metadata": {}
        }
      ],
      "execution_count": 16
    },
    {
      "cell_type": "markdown",
      "source": "<details><summary>Click here for the solution</summary>\n\n```python\nlre=LinearRegression()\nlre.fit(x_train[['CPU_frequency']], y_train)\nprint(lre.score(x_test[['CPU_frequency']], y_test))\nprint(lre.score(x_train[['CPU_frequency']], y_train))\n```\n\n</details>\n",
      "metadata": {}
    },
    {
      "cell_type": "code",
      "source": "print(lr1.score(x_train[[\"CPU_frequency\"]], y_train))",
      "metadata": {
        "trusted": true
      },
      "outputs": [
        {
          "name": "stdout",
          "text": "0.14724238605458895\n",
          "output_type": "stream"
        }
      ],
      "execution_count": 18
    },
    {
      "cell_type": "code",
      "source": "print(lr1.score(x_test[[\"CPU_frequency\"]], y_test))",
      "metadata": {
        "trusted": true
      },
      "outputs": [
        {
          "name": "stdout",
          "text": "-0.09730358788786853\n",
          "output_type": "stream"
        }
      ],
      "execution_count": 19
    },
    {
      "cell_type": "markdown",
      "source": "Run a 4-fold cross validation on the model and print the mean value of R^2 score along with its standard deviation.\n",
      "metadata": {}
    },
    {
      "cell_type": "code",
      "source": "# Write your code below and press Shift+Enter to execute \ncv1 =  cross_val_score(lr1, x_train[['CPU_frequency']], y_train, cv=4)\nprint(f\"r2mean {cv1.mean()}, std:{cv1.std()}\")",
      "metadata": {
        "trusted": true
      },
      "outputs": [
        {
          "name": "stdout",
          "text": "r2mean 0.0804391549212844, std:0.11266405473064041\n",
          "output_type": "stream"
        }
      ],
      "execution_count": 23
    },
    {
      "cell_type": "markdown",
      "source": "<details><summary>Click here for the solution</summary>\n\n```python\nRcross = cross_val_score(lre, x_train[['CPU_frequency']], y_data, cv=4)\nprint(\"The mean of the folds are\", Rcross.mean(), \"and the standard deviation is\" , Rcross.std())\n```\n\n</details>\n",
      "metadata": {}
    },
    {
      "cell_type": "markdown",
      "source": "# Task 2: Overfitting\n\nSplit the data set into training and testing components again, this time reserving 50% of the data set for testing.\n",
      "metadata": {}
    },
    {
      "cell_type": "code",
      "source": "# Write your code below and press Shift+Enter to execute \nx_train,x_test, y_train,   y_test =  train_test_split(x_data, y_data, test_size=.5, random_state=0)\n",
      "metadata": {
        "trusted": true
      },
      "outputs": [],
      "execution_count": 24
    },
    {
      "cell_type": "markdown",
      "source": "<details><summary>Click here for the solution</summary>\n\n```python\nx_train, x_test, y_train, y_test = train_test_split(x_data, y_data, test_size=0.5, random_state=0)\n# fixing random_state to a fixed quantity helps maintain uniformity between multiple \n# executions of the code.\n```\n\n</details>\n",
      "metadata": {}
    },
    {
      "cell_type": "markdown",
      "source": "To identify the point of overfitting the model on the parameter \"CPU_frequency\", you'll need to create polynomial features using the single attribute. \nYou need to evaluate the R^2 scores of the model created using different degrees of polynomial features, ranging from 1 to 5. Save this set of values of R^2 score as a list.\n",
      "metadata": {}
    },
    {
      "cell_type": "code",
      "source": "# Write your code below and press Shift+Enter to execute \nlr2 =  LinearRegression()\nrsq_test = []\norder = [1, 2, 3, 4, 5]\nfor n in order:\n    pr = PolynomialFeatures(degree=n)\n    x_train_pr =  pr.fit_transform(x_train[['CPU_frequency']])\n    x_test_pr =  pr.fit_transform(x_test[['CPU_frequency']])\n    lr2.fit(x_train_pr, y_train)\n    rsq_test.append(lr2.score(x_test_pr, y_test))\n ",
      "metadata": {
        "trusted": true
      },
      "outputs": [],
      "execution_count": 28
    },
    {
      "cell_type": "markdown",
      "source": "<details><summary>Click here for the solution</summary>\n\n```python\nlre = LinearRegression()\nRsqu_test = []\norder = [1, 2, 3, 4, 5]\nfor n in order:\n    pr = PolynomialFeatures(degree=n)\n    x_train_pr = pr.fit_transform(x_train[['CPU_frequency']])\n    x_test_pr = pr.fit_transform(x_test[['CPU_frequency']])    \n    lre.fit(x_train_pr, y_train)\n    Rsqu_test.append(lre.score(x_test_pr, y_test))\n```\n\n</details>\n",
      "metadata": {}
    },
    {
      "cell_type": "markdown",
      "source": "Plot the values of R^2 scores against the order. Note the point where the score drops.\n",
      "metadata": {}
    },
    {
      "cell_type": "code",
      "source": "# Write your code below and press Shift+Enter to execute \nplt.plot(order, rsq_test)\nplt.xlabel('order')\nplt.ylabel('R^2')\nplt.title('R^2 using Test Data')",
      "metadata": {
        "trusted": true
      },
      "outputs": [
        {
          "execution_count": 29,
          "output_type": "execute_result",
          "data": {
            "text/plain": "Text(0.5, 1.0, 'R^2 using Test Data')"
          },
          "metadata": {}
        },
        {
          "output_type": "display_data",
          "data": {
            "text/plain": "<Figure size 640x480 with 1 Axes>",
            "image/png": "[encoded data removed]"
          },
          "metadata": {}
        }
      ],
      "execution_count": 29
    },
    {
      "cell_type": "markdown",
      "source": "<details><summary>Click here for the solution</summary>\n\n```python\nplt.plot(order, Rsqu_test)\nplt.xlabel('order')\nplt.ylabel('R^2')\nplt.title('R^2 Using Test Data')\n```\n\n</details>\n",
      "metadata": {}
    },
    {
      "cell_type": "markdown",
      "source": "# Task 3 : Ridge Regression\n\nNow consider that you have multiple features, i.e. 'CPU_frequency', 'RAM_GB', 'Storage_GB_SSD', 'CPU_core','OS','GPU' and 'Category'. Create a polynomial feature model that uses all these parameters with degree=2. Also create the training and testing attribute sets.\n",
      "metadata": {}
    },
    {
      "cell_type": "code",
      "source": "# Write your code below and press Shift+Enter to execute \n\npr2 = PolynomialFeatures(degree=2)\nx_train_m_pr =  pr2.fit_transform(x_train[['CPU_frequency', 'RAM_GB', 'Storage_GB_SSD', 'CPU_core','OS','GPU' , 'Category']])\nx_test_m_pr =  pr2.fit_transform(x_test[['CPU_frequency', 'RAM_GB', 'Storage_GB_SSD', 'CPU_core','OS','GPU' , 'Category']])\n",
      "metadata": {
        "trusted": true
      },
      "outputs": [],
      "execution_count": 30
    },
    {
      "cell_type": "markdown",
      "source": "<details><summary>Click here for the solution</summary>\n\n```python\npr=PolynomialFeatures(degree=2)\nx_train_pr=pr.fit_transform(x_train[['CPU_frequency', 'RAM_GB', 'Storage_GB_SSD', 'CPU_core', 'OS', 'GPU', 'Category']])\nx_test_pr=pr.fit_transform(x_test[['CPU_frequency', 'RAM_GB', 'Storage_GB_SSD', 'CPU_core', 'OS', 'GPU', 'Category']])\n```\n\n</details>\n",
      "metadata": {}
    },
    {
      "cell_type": "markdown",
      "source": "Create a Ridge Regression model and evaluate it using values of the hyperparameter alpha ranging from 0.001 to 1 with increments of 0.001. \nCreate a list of all Ridge Regression R^2 scores for training and testing data. \n",
      "metadata": {}
    },
    {
      "cell_type": "code",
      "source": "# Write your code below and press Shift+Enter to execute \nrs_train = []\nrs_test = []\nAlpha = np.arange(0.001, 1, 0.001)\npbar = tqdm(Alpha)\nfor alpha in pbar:\n    rm =  Ridge(alpha=alpha)\n    rm.fit(x_train_pr, y_train)\n    test_score, train_score = rm.score(x_test_pr, y_test), rm.score(x_train_pr, y_train)\n    pbar.set_postfix({\"Test Score\": test_score, \"Train Score\": train_score})\n    rs_test.append(test_score)\n    rs_train.append(train_score)\n    ",
      "metadata": {
        "trusted": true
      },
      "outputs": [
        {
          "name": "stderr",
          "text": "100%|██████████| 999/999 [00:01<00:00, 831.11it/s, Test Score=0.0994, Train Score=0.283]\n",
          "output_type": "stream"
        }
      ],
      "execution_count": 33
    },
    {
      "cell_type": "markdown",
      "source": "<details><summary>Click here for the solution</summary>\n\n```python\nRsqu_test = []\nRsqu_train = []\nAlpha = np.arange(0.001,1,0.001)\npbar = tqdm(Alpha)\n\nfor alpha in pbar:\n    RigeModel = Ridge(alpha=alpha) \n    RigeModel.fit(x_train_pr, y_train)\n    test_score, train_score = RigeModel.score(x_test_pr, y_test), RigeModel.score(x_train_pr, y_train)\n    pbar.set_postfix({\"Test Score\": test_score, \"Train Score\": train_score})\n    Rsqu_test.append(test_score)\n    Rsqu_train.append(train_score)\n```\n\n</details>\n",
      "metadata": {}
    },
    {
      "cell_type": "markdown",
      "source": "Plot the R^2 values for training and testing sets with respect to the value of alpha\n",
      "metadata": {}
    },
    {
      "cell_type": "code",
      "source": "# Write your code below and press Shift+Enter to execute \nplt.plot(Alpha, rs_test, label='test data', color='b')\nplt.plot(Alpha, rs_train, label='train data', color='r')\nplt.xlabel('alpha')\nplt.ylabel('R^2')\nplt.ylim(0,1)\nplt.legend()",
      "metadata": {
        "trusted": true
      },
      "outputs": [
        {
          "execution_count": 34,
          "output_type": "execute_result",
          "data": {
            "text/plain": "<matplotlib.legend.Legend at 0xd1e7ae0>"
          },
          "metadata": {}
        },
        {
          "output_type": "display_data",
          "data": {
            "text/plain": "<Figure size 640x480 with 1 Axes>",
            "image/png": "[encoded data removed]"
          },
          "metadata": {}
        }
      ],
      "execution_count": 34
    },
    {
      "cell_type": "markdown",
      "source": "<details><summary>Click here for the solution</summary>\n\n```python\nplt.figure(figsize=(10, 6))  \nplt.plot(Alpha, Rsqu_test, label='validation data')\nplt.plot(Alpha, Rsqu_train, 'r', label='training Data')\nplt.xlabel('alpha')\nplt.ylabel('R^2')\nplt.ylim(0, 1)\nplt.legend()\n```\n\n</details>\n",
      "metadata": {}
    },
    {
      "cell_type": "markdown",
      "source": "# Task 4: Grid Search\n\nUsing the raw data and the same set of features as used above, use GridSearchCV to identify the value of alpha for which the model performs best. \nAssume the set of alpha values to be used as\n```math\n{0.0001, 0.001, 0.01, 0.1, 1, 10}\n```\n",
      "metadata": {}
    },
    {
      "cell_type": "code",
      "source": "# Write your code below and press Shift+Enter to execute \nparameters1= [{'alpha': [0.0001,0.001,0.01, 0.1, 1, 10]}]\n",
      "metadata": {
        "trusted": true
      },
      "outputs": [],
      "execution_count": 35
    },
    {
      "cell_type": "markdown",
      "source": "<details><summary>Click here for the solution</summary>\n\n```python\nparameters1= [{'alpha': [0.0001,0.001,0.01, 0.1, 1, 10]}]\n```\n\n</details>\n",
      "metadata": {}
    },
    {
      "cell_type": "markdown",
      "source": "Create a Ridge instance and run Grid Search using a 4 fold cross validation.\n",
      "metadata": {}
    },
    {
      "cell_type": "code",
      "source": "# Write your code below and press Shift+Enter to execute \nRR=Ridge()\nGrid1 = GridSearchCV(RR, parameters1,cv=4)",
      "metadata": {
        "trusted": true
      },
      "outputs": [],
      "execution_count": 36
    },
    {
      "cell_type": "markdown",
      "source": "<details><summary>Click here for the solution</summary>\n\n```python\nRR=Ridge()\nGrid1 = GridSearchCV(RR, parameters1,cv=4)\n```\n</details>\n",
      "metadata": {}
    },
    {
      "cell_type": "markdown",
      "source": "Fit the Grid Search to the training data.\n",
      "metadata": {}
    },
    {
      "cell_type": "markdown",
      "source": "<details><summary>Click here for the solution</summary>\n\n```python\nGrid1.fit(x_train[['CPU_frequency', 'RAM_GB', 'Storage_GB_SSD', 'CPU_core', 'OS', 'GPU', 'Category']], y_train)\n```\n</details>\n",
      "metadata": {}
    },
    {
      "cell_type": "markdown",
      "source": "Print the R^2 score for the test data using the estimator that uses the derived optimum value of alpha.\n",
      "metadata": {}
    },
    {
      "cell_type": "code",
      "source": "help(Grid1)",
      "metadata": {
        "trusted": true
      },
      "outputs": [
        {
          "name": "stdout",
          "text": "Help on GridSearchCV in module sklearn.model_selection._search object:\n\nclass GridSearchCV(BaseSearchCV)\n |  GridSearchCV(estimator, param_grid, *, scoring=None, n_jobs=None, refit=True, cv=None, verbose=0, pre_dispatch='2*n_jobs', error_score=nan, return_train_score=False)\n |\n |  Exhaustive search over specified parameter values for an estimator.\n |\n |  Important members are fit, predict.\n |\n |  GridSearchCV implements a \"fit\" and a \"score\" method.\n |  It also implements \"score_samples\", \"predict\", \"predict_proba\",\n |  \"decision_function\", \"transform\" and \"inverse_transform\" if they are\n |  implemented in the estimator used.\n |\n |  The parameters of the estimator used to apply these methods are optimized\n |  by cross-validated grid-search over a parameter grid.\n |\n |  Read more in the :ref:`User Guide <grid_search>`.\n |\n |  Parameters\n |  ----------\n |  estimator : estimator object\n |      This is assumed to implement the scikit-learn estimator interface.\n |      Either estimator needs to provide a ``score`` function,\n |      or ``scoring`` must be passed.\n |\n |  param_grid : dict or list of dictionaries\n |      Dictionary with parameters names (`str`) as keys and lists of\n |      parameter settings to try as values, or a list of such\n |      dictionaries, in which case the grids spanned by each dictionary\n |      in the list are explored. This enables searching over any sequence\n |      of parameter settings.\n |\n |  scoring : str, callable, list, tuple or dict, default=None\n |      Strategy to evaluate the performance of the cross-validated model on\n |      the test set.\n |\n |      If `scoring` represents a single score, one can use:\n |\n |      - a single string (see :ref:`scoring_parameter`);\n |      - a callable (see :ref:`scoring`) that returns a single value.\n |\n |      If `scoring` represents multiple scores, one can use:\n |\n |      - a list or tuple of unique strings;\n |      - a callable returning a dictionary where the keys are the metric\n |        names and the values are the metric scores;\n |      - a dictionary with metric names as keys and callables a values.\n |\n |      See :ref:`multimetric_grid_search` for an example.\n |\n |  n_jobs : int, default=None\n |      Number of jobs to run in parallel.\n |      ``None`` means 1 unless in a :obj:`joblib.parallel_backend` context.\n |      ``-1`` means using all processors. See :term:`Glossary <n_jobs>`\n |      for more details.\n |\n |      .. versionchanged:: v0.20\n |         `n_jobs` default changed from 1 to None\n |\n |  refit : bool, str, or callable, default=True\n |      Refit an estimator using the best found parameters on the whole\n |      dataset.\n |\n |      For multiple metric evaluation, this needs to be a `str` denoting the\n |      scorer that would be used to find the best parameters for refitting\n |      the estimator at the end.\n |\n |      Where there are considerations other than maximum score in\n |      choosing a best estimator, ``refit`` can be set to a function which\n |      returns the selected ``best_index_`` given ``cv_results_``. In that\n |      case, the ``best_estimator_`` and ``best_params_`` will be set\n |      according to the returned ``best_index_`` while the ``best_score_``\n |      attribute will not be available.\n |\n |      The refitted estimator is made available at the ``best_estimator_``\n |      attribute and permits using ``predict`` directly on this\n |      ``GridSearchCV`` instance.\n |\n |      Also for multiple metric evaluation, the attributes ``best_index_``,\n |      ``best_score_`` and ``best_params_`` will only be available if\n |      ``refit`` is set and all of them will be determined w.r.t this specific\n |      scorer.\n |\n |      See ``scoring`` parameter to know more about multiple metric\n |      evaluation.\n |\n |      See :ref:`sphx_glr_auto_examples_model_selection_plot_grid_search_digits.py`\n |      to see how to design a custom selection strategy using a callable\n |      via `refit`.\n |\n |      .. versionchanged:: 0.20\n |          Support for callable added.\n |\n |  cv : int, cross-validation generator or an iterable, default=None\n |      Determines the cross-validation splitting strategy.\n |      Possible inputs for cv are:\n |\n |      - None, to use the default 5-fold cross validation,\n |      - integer, to specify the number of folds in a `(Stratified)KFold`,\n |      - :term:`CV splitter`,\n |      - An iterable yielding (train, test) splits as arrays of indices.\n |\n |      For integer/None inputs, if the estimator is a classifier and ``y`` is\n |      either binary or multiclass, :class:`StratifiedKFold` is used. In all\n |      other cases, :class:`KFold` is used. These splitters are instantiated\n |      with `shuffle=False` so the splits will be the same across calls.\n |\n |      Refer :ref:`User Guide <cross_validation>` for the various\n |      cross-validation strategies that can be used here.\n |\n |      .. versionchanged:: 0.22\n |          ``cv`` default value if None changed from 3-fold to 5-fold.\n |\n |  verbose : int\n |      Controls the verbosity: the higher, the more messages.\n |\n |      - >1 : the computation time for each fold and parameter candidate is\n |        displayed;\n |      - >2 : the score is also displayed;\n |      - >3 : the fold and candidate parameter indexes are also displayed\n |        together with the starting time of the computation.\n |\n |  pre_dispatch : int, or str, default='2*n_jobs'\n |      Controls the number of jobs that get dispatched during parallel\n |      execution. Reducing this number can be useful to avoid an\n |      explosion of memory consumption when more jobs get dispatched\n |      than CPUs can process. This parameter can be:\n |\n |          - None, in which case all the jobs are immediately\n |            created and spawned. Use this for lightweight and\n |            fast-running jobs, to avoid delays due to on-demand\n |            spawning of the jobs\n |\n |          - An int, giving the exact number of total jobs that are\n |            spawned\n |\n |          - A str, giving an expression as a function of n_jobs,\n |            as in '2*n_jobs'\n |\n |  error_score : 'raise' or numeric, default=np.nan\n |      Value to assign to the score if an error occurs in estimator fitting.\n |      If set to 'raise', the error is raised. If a numeric value is given,\n |      FitFailedWarning is raised. This parameter does not affect the refit\n |      step, which will always raise the error.\n |\n |  return_train_score : bool, default=False\n |      If ``False``, the ``cv_results_`` attribute will not include training\n |      scores.\n |      Computing training scores is used to get insights on how different\n |      parameter settings impact the overfitting/underfitting trade-off.\n |      However computing the scores on the training set can be computationally\n |      expensive and is not strictly required to select the parameters that\n |      yield the best generalization performance.\n |\n |      .. versionadded:: 0.19\n |\n |      .. versionchanged:: 0.21\n |          Default value was changed from ``True`` to ``False``\n |\n |  Attributes\n |  ----------\n |  cv_results_ : dict of numpy (masked) ndarrays\n |      A dict with keys as column headers and values as columns, that can be\n |      imported into a pandas ``DataFrame``.\n |\n |      For instance the below given table\n |\n |      +------------+-----------+------------+-----------------+---+---------+\n |      |param_kernel|param_gamma|param_degree|split0_test_score|...|rank_t...|\n |      +============+===========+============+=================+===+=========+\n |      |  'poly'    |     --    |      2     |       0.80      |...|    2    |\n |      +------------+-----------+------------+-----------------+---+---------+\n |      |  'poly'    |     --    |      3     |       0.70      |...|    4    |\n |      +------------+-----------+------------+-----------------+---+---------+\n |      |  'rbf'     |     0.1   |     --     |       0.80      |...|    3    |\n |      +------------+-----------+------------+-----------------+---+---------+\n |      |  'rbf'     |     0.2   |     --     |       0.93      |...|    1    |\n |      +------------+-----------+------------+-----------------+---+---------+\n |\n |      will be represented by a ``cv_results_`` dict of::\n |\n |          {\n |          'param_kernel': masked_array(data = ['poly', 'poly', 'rbf', 'rbf'],\n |                                       mask = [False False False False]...)\n |          'param_gamma': masked_array(data = [-- -- 0.1 0.2],\n |                                      mask = [ True  True False False]...),\n |          'param_degree': masked_array(data = [2.0 3.0 -- --],\n |                                       mask = [False False  True  True]...),\n |          'split0_test_score'  : [0.80, 0.70, 0.80, 0.93],\n |          'split1_test_score'  : [0.82, 0.50, 0.70, 0.78],\n |          'mean_test_score'    : [0.81, 0.60, 0.75, 0.85],\n |          'std_test_score'     : [0.01, 0.10, 0.05, 0.08],\n |          'rank_test_score'    : [2, 4, 3, 1],\n |          'split0_train_score' : [0.80, 0.92, 0.70, 0.93],\n |          'split1_train_score' : [0.82, 0.55, 0.70, 0.87],\n |          'mean_train_score'   : [0.81, 0.74, 0.70, 0.90],\n |          'std_train_score'    : [0.01, 0.19, 0.00, 0.03],\n |          'mean_fit_time'      : [0.73, 0.63, 0.43, 0.49],\n |          'std_fit_time'       : [0.01, 0.02, 0.01, 0.01],\n |          'mean_score_time'    : [0.01, 0.06, 0.04, 0.04],\n |          'std_score_time'     : [0.00, 0.00, 0.00, 0.01],\n |          'params'             : [{'kernel': 'poly', 'degree': 2}, ...],\n |          }\n |\n |      NOTE\n |\n |      The key ``'params'`` is used to store a list of parameter\n |      settings dicts for all the parameter candidates.\n |\n |      The ``mean_fit_time``, ``std_fit_time``, ``mean_score_time`` and\n |      ``std_score_time`` are all in seconds.\n |\n |      For multi-metric evaluation, the scores for all the scorers are\n |      available in the ``cv_results_`` dict at the keys ending with that\n |      scorer's name (``'_<scorer_name>'``) instead of ``'_score'`` shown\n |      above. ('split0_test_precision', 'mean_train_precision' etc.)\n |\n |  best_estimator_ : estimator\n |      Estimator that was chosen by the search, i.e. estimator\n |      which gave highest score (or smallest loss if specified)\n |      on the left out data. Not available if ``refit=False``.\n |\n |      See ``refit`` parameter for more information on allowed values.\n |\n |  best_score_ : float\n |      Mean cross-validated score of the best_estimator\n |\n |      For multi-metric evaluation, this is present only if ``refit`` is\n |      specified.\n |\n |      This attribute is not available if ``refit`` is a function.\n |\n |  best_params_ : dict\n |      Parameter setting that gave the best results on the hold out data.\n |\n |      For multi-metric evaluation, this is present only if ``refit`` is\n |      specified.\n |\n |  best_index_ : int\n |      The index (of the ``cv_results_`` arrays) which corresponds to the best\n |      candidate parameter setting.\n |\n |      The dict at ``search.cv_results_['params'][search.best_index_]`` gives\n |      the parameter setting for the best model, that gives the highest\n |      mean score (``search.best_score_``).\n |\n |      For multi-metric evaluation, this is present only if ``refit`` is\n |      specified.\n |\n |  scorer_ : function or a dict\n |      Scorer function used on the held out data to choose the best\n |      parameters for the model.\n |\n |      For multi-metric evaluation, this attribute holds the validated\n |      ``scoring`` dict which maps the scorer key to the scorer callable.\n |\n |  n_splits_ : int\n |      The number of cross-validation splits (folds/iterations).\n |\n |  refit_time_ : float\n |      Seconds used for refitting the best model on the whole dataset.\n |\n |      This is present only if ``refit`` is not False.\n |\n |      .. versionadded:: 0.20\n |\n |  multimetric_ : bool\n |      Whether or not the scorers compute several metrics.\n |\n |  classes_ : ndarray of shape (n_classes,)\n |      The classes labels. This is present only if ``refit`` is specified and\n |      the underlying estimator is a classifier.\n |\n |  n_features_in_ : int\n |      Number of features seen during :term:`fit`. Only defined if\n |      `best_estimator_` is defined (see the documentation for the `refit`\n |      parameter for more details) and that `best_estimator_` exposes\n |      `n_features_in_` when fit.\n |\n |      .. versionadded:: 0.24\n |\n |  feature_names_in_ : ndarray of shape (`n_features_in_`,)\n |      Names of features seen during :term:`fit`. Only defined if\n |      `best_estimator_` is defined (see the documentation for the `refit`\n |      parameter for more details) and that `best_estimator_` exposes\n |      `feature_names_in_` when fit.\n |\n |      .. versionadded:: 1.0\n |\n |  See Also\n |  --------\n |  ParameterGrid : Generates all the combinations of a hyperparameter grid.\n |  train_test_split : Utility function to split the data into a development\n |      set usable for fitting a GridSearchCV instance and an evaluation set\n |      for its final evaluation.\n |  sklearn.metrics.make_scorer : Make a scorer from a performance metric or\n |      loss function.\n |\n |  Notes\n |  -----\n |  The parameters selected are those that maximize the score of the left out\n |  data, unless an explicit score is passed in which case it is used instead.\n |\n |  If `n_jobs` was set to a value higher than one, the data is copied for each\n |  point in the grid (and not `n_jobs` times). This is done for efficiency\n |  reasons if individual jobs take very little time, but may raise errors if\n |  the dataset is large and not enough memory is available.  A workaround in\n |  this case is to set `pre_dispatch`. Then, the memory is copied only\n |  `pre_dispatch` many times. A reasonable value for `pre_dispatch` is `2 *\n |  n_jobs`.\n |\n |  Examples\n |  --------\n |  >>> from sklearn import svm, datasets\n |  >>> from sklearn.model_selection import GridSearchCV\n |  >>> iris = datasets.load_iris()\n |  >>> parameters = {'kernel':('linear', 'rbf'), 'C':[1, 10]}\n |  >>> svc = svm.SVC()\n |  >>> clf = GridSearchCV(svc, parameters)\n |  >>> clf.fit(iris.data, iris.target)\n |  GridSearchCV(estimator=SVC(),\n |               param_grid={'C': [1, 10], 'kernel': ('linear', 'rbf')})\n |  >>> sorted(clf.cv_results_.keys())\n |  ['mean_fit_time', 'mean_score_time', 'mean_test_score',...\n |   'param_C', 'param_kernel', 'params',...\n |   'rank_test_score', 'split0_test_score',...\n |   'split2_test_score', ...\n |   'std_fit_time', 'std_score_time', 'std_test_score']\n |\n |  Method resolution order:\n |      GridSearchCV\n |      BaseSearchCV\n |      sklearn.base.MetaEstimatorMixin\n |      sklearn.base.BaseEstimator\n |      sklearn.utils._estimator_html_repr._HTMLDocumentationLinkMixin\n |      sklearn.utils._metadata_requests._MetadataRequester\n |      builtins.object\n |\n |  Methods defined here:\n |\n |  __init__(self, estimator, param_grid, *, scoring=None, n_jobs=None, refit=True, cv=None, verbose=0, pre_dispatch='2*n_jobs', error_score=nan, return_train_score=False)\n |      Initialize self.  See help(type(self)) for accurate signature.\n |\n |  ----------------------------------------------------------------------\n |  Data and other attributes defined here:\n |\n |  __abstractmethods__ = frozenset()\n |\n |  __annotations__ = {'_parameter_constraints': <class 'dict'>}\n |\n |  ----------------------------------------------------------------------\n |  Methods inherited from BaseSearchCV:\n |\n |  decision_function(self, X)\n |      Call decision_function on the estimator with the best found parameters.\n |\n |      Only available if ``refit=True`` and the underlying estimator supports\n |      ``decision_function``.\n |\n |      Parameters\n |      ----------\n |      X : indexable, length n_samples\n |          Must fulfill the input assumptions of the\n |          underlying estimator.\n |\n |      Returns\n |      -------\n |      y_score : ndarray of shape (n_samples,) or (n_samples, n_classes)                 or (n_samples, n_classes * (n_classes-1) / 2)\n |          Result of the decision function for `X` based on the estimator with\n |          the best found parameters.\n |\n |  fit(self, X, y=None, **params)\n |      Run fit with all sets of parameters.\n |\n |      Parameters\n |      ----------\n |\n |      X : array-like of shape (n_samples, n_features)\n |          Training vector, where `n_samples` is the number of samples and\n |          `n_features` is the number of features.\n |\n |      y : array-like of shape (n_samples, n_output)             or (n_samples,), default=None\n |          Target relative to X for classification or regression;\n |          None for unsupervised learning.\n |\n |      **params : dict of str -> object\n |          Parameters passed to the ``fit`` method of the estimator, the scorer,\n |          and the CV splitter.\n |\n |          If a fit parameter is an array-like whose length is equal to\n |          `num_samples` then it will be split across CV groups along with `X`\n |          and `y`. For example, the :term:`sample_weight` parameter is split\n |          because `len(sample_weights) = len(X)`.\n |\n |      Returns\n |      -------\n |      self : object\n |          Instance of fitted estimator.\n |\n |  get_metadata_routing(self)\n |      Get metadata routing of this object.\n |\n |      Please check :ref:`User Guide <metadata_routing>` on how the routing\n |      mechanism works.\n |\n |      .. versionadded:: 1.4\n |\n |      Returns\n |      -------\n |      routing : MetadataRouter\n |          A :class:`~sklearn.utils.metadata_routing.MetadataRouter` encapsulating\n |          routing information.\n |\n |  inverse_transform(self, Xt)\n |      Call inverse_transform on the estimator with the best found params.\n |\n |      Only available if the underlying estimator implements\n |      ``inverse_transform`` and ``refit=True``.\n |\n |      Parameters\n |      ----------\n |      Xt : indexable, length n_samples\n |          Must fulfill the input assumptions of the\n |          underlying estimator.\n |\n |      Returns\n |      -------\n |      X : {ndarray, sparse matrix} of shape (n_samples, n_features)\n |          Result of the `inverse_transform` function for `Xt` based on the\n |          estimator with the best found parameters.\n |\n |  predict(self, X)\n |      Call predict on the estimator with the best found parameters.\n |\n |      Only available if ``refit=True`` and the underlying estimator supports\n |      ``predict``.\n |\n |      Parameters\n |      ----------\n |      X : indexable, length n_samples\n |          Must fulfill the input assumptions of the\n |          underlying estimator.\n |\n |      Returns\n |      -------\n |      y_pred : ndarray of shape (n_samples,)\n |          The predicted labels or values for `X` based on the estimator with\n |          the best found parameters.\n |\n |  predict_log_proba(self, X)\n |      Call predict_log_proba on the estimator with the best found parameters.\n |\n |      Only available if ``refit=True`` and the underlying estimator supports\n |      ``predict_log_proba``.\n |\n |      Parameters\n |      ----------\n |      X : indexable, length n_samples\n |          Must fulfill the input assumptions of the\n |          underlying estimator.\n |\n |      Returns\n |      -------\n |      y_pred : ndarray of shape (n_samples,) or (n_samples, n_classes)\n |          Predicted class log-probabilities for `X` based on the estimator\n |          with the best found parameters. The order of the classes\n |          corresponds to that in the fitted attribute :term:`classes_`.\n |\n |  predict_proba(self, X)\n |      Call predict_proba on the estimator with the best found parameters.\n |\n |      Only available if ``refit=True`` and the underlying estimator supports\n |      ``predict_proba``.\n |\n |      Parameters\n |      ----------\n |      X : indexable, length n_samples\n |          Must fulfill the input assumptions of the\n |          underlying estimator.\n |\n |      Returns\n |      -------\n |      y_pred : ndarray of shape (n_samples,) or (n_samples, n_classes)\n |          Predicted class probabilities for `X` based on the estimator with\n |          the best found parameters. The order of the classes corresponds\n |          to that in the fitted attribute :term:`classes_`.\n |\n |  score(self, X, y=None, **params)\n |      Return the score on the given data, if the estimator has been refit.\n |\n |      This uses the score defined by ``scoring`` where provided, and the\n |      ``best_estimator_.score`` method otherwise.\n |\n |      Parameters\n |      ----------\n |      X : array-like of shape (n_samples, n_features)\n |          Input data, where `n_samples` is the number of samples and\n |          `n_features` is the number of features.\n |\n |      y : array-like of shape (n_samples, n_output)             or (n_samples,), default=None\n |          Target relative to X for classification or regression;\n |          None for unsupervised learning.\n |\n |      **params : dict\n |          Parameters to be passed to the underlying scorer(s).\n |\n |          ..versionadded:: 1.4\n |              Only available if `enable_metadata_routing=True`. See\n |              :ref:`Metadata Routing User Guide <metadata_routing>` for more\n |              details.\n |\n |      Returns\n |      -------\n |      score : float\n |          The score defined by ``scoring`` if provided, and the\n |          ``best_estimator_.score`` method otherwise.\n |\n |  score_samples(self, X)\n |      Call score_samples on the estimator with the best found parameters.\n |\n |      Only available if ``refit=True`` and the underlying estimator supports\n |      ``score_samples``.\n |\n |      .. versionadded:: 0.24\n |\n |      Parameters\n |      ----------\n |      X : iterable\n |          Data to predict on. Must fulfill input requirements\n |          of the underlying estimator.\n |\n |      Returns\n |      -------\n |      y_score : ndarray of shape (n_samples,)\n |          The ``best_estimator_.score_samples`` method.\n |\n |  transform(self, X)\n |      Call transform on the estimator with the best found parameters.\n |\n |      Only available if the underlying estimator supports ``transform`` and\n |      ``refit=True``.\n |\n |      Parameters\n |      ----------\n |      X : indexable, length n_samples\n |          Must fulfill the input assumptions of the\n |          underlying estimator.\n |\n |      Returns\n |      -------\n |      Xt : {ndarray, sparse matrix} of shape (n_samples, n_features)\n |          `X` transformed in the new space based on the estimator with\n |          the best found parameters.\n |\n |  ----------------------------------------------------------------------\n |  Readonly properties inherited from BaseSearchCV:\n |\n |  classes_\n |      Class labels.\n |\n |      Only available when `refit=True` and the estimator is a classifier.\n |\n |  n_features_in_\n |      Number of features seen during :term:`fit`.\n |\n |      Only available when `refit=True`.\n |\n |  ----------------------------------------------------------------------\n |  Data descriptors inherited from sklearn.base.MetaEstimatorMixin:\n |\n |  __dict__\n |      dictionary for instance variables\n |\n |  __weakref__\n |      list of weak references to the object\n |\n |  ----------------------------------------------------------------------\n |  Methods inherited from sklearn.base.BaseEstimator:\n |\n |  __getstate__(self)\n |      Helper for pickle.\n |\n |  __repr__(self, N_CHAR_MAX=700)\n |      Return repr(self).\n |\n |  __setstate__(self, state)\n |\n |  __sklearn_clone__(self)\n |\n |  get_params(self, deep=True)\n |      Get parameters for this estimator.\n |\n |      Parameters\n |      ----------\n |      deep : bool, default=True\n |          If True, will return the parameters for this estimator and\n |          contained subobjects that are estimators.\n |\n |      Returns\n |      -------\n |      params : dict\n |          Parameter names mapped to their values.\n |\n |  set_params(self, **params)\n |      Set the parameters of this estimator.\n |\n |      The method works on simple estimators as well as on nested objects\n |      (such as :class:`~sklearn.pipeline.Pipeline`). The latter have\n |      parameters of the form ``<component>__<parameter>`` so that it's\n |      possible to update each component of a nested object.\n |\n |      Parameters\n |      ----------\n |      **params : dict\n |          Estimator parameters.\n |\n |      Returns\n |      -------\n |      self : estimator instance\n |          Estimator instance.\n |\n |  ----------------------------------------------------------------------\n |  Class methods inherited from sklearn.utils._metadata_requests._MetadataRequester:\n |\n |  __init_subclass__(**kwargs) from abc.ABCMeta\n |      Set the ``set_{method}_request`` methods.\n |\n |      This uses PEP-487 [1]_ to set the ``set_{method}_request`` methods. It\n |      looks for the information available in the set default values which are\n |      set using ``__metadata_request__*`` class attributes, or inferred\n |      from method signatures.\n |\n |      The ``__metadata_request__*`` class attributes are used when a method\n |      does not explicitly accept a metadata through its arguments or if the\n |      developer would like to specify a request value for those metadata\n |      which are different from the default ``None``.\n |\n |      References\n |      ----------\n |      .. [1] https://www.python.org/dev/peps/pep-0487\n\n",
          "output_type": "stream"
        }
      ],
      "execution_count": 39
    },
    {
      "cell_type": "code",
      "source": "# Write your code below and press Shift+Enter to execute \nBestRR=Grid1.best_estimator_\nprint(BestRR.score(x_test[['CPU_frequency', 'RAM_GB', 'Storage_GB_SSD', 'CPU_core','OS','GPU','Category']], y_test))",
      "metadata": {
        "trusted": true
      },
      "outputs": [
        {
          "ename": "<class 'AttributeError'>",
          "evalue": "'GridSearchCV' object has no attribute 'best_estimator_'",
          "traceback": [
            "\u001b[0;31m---------------------------------------------------------------------------\u001b[0m",
            "\u001b[0;31mAttributeError\u001b[0m                            Traceback (most recent call last)",
            "Cell \u001b[0;32mIn[38], line 2\u001b[0m\n\u001b[1;32m      1\u001b[0m \u001b[38;5;66;03m# Write your code below and press Shift+Enter to execute \u001b[39;00m\n\u001b[0;32m----> 2\u001b[0m BestRR\u001b[38;5;241m=\u001b[39m\u001b[43mGrid1\u001b[49m\u001b[38;5;241;43m.\u001b[39;49m\u001b[43mbest_estimator_\u001b[49m\n\u001b[1;32m      3\u001b[0m \u001b[38;5;28mprint\u001b[39m(BestRR\u001b[38;5;241m.\u001b[39mscore(x_test[[\u001b[38;5;124m'\u001b[39m\u001b[38;5;124mCPU_frequency\u001b[39m\u001b[38;5;124m'\u001b[39m, \u001b[38;5;124m'\u001b[39m\u001b[38;5;124mRAM_GB\u001b[39m\u001b[38;5;124m'\u001b[39m, \u001b[38;5;124m'\u001b[39m\u001b[38;5;124mStorage_GB_SSD\u001b[39m\u001b[38;5;124m'\u001b[39m, \u001b[38;5;124m'\u001b[39m\u001b[38;5;124mCPU_core\u001b[39m\u001b[38;5;124m'\u001b[39m,\u001b[38;5;124m'\u001b[39m\u001b[38;5;124mOS\u001b[39m\u001b[38;5;124m'\u001b[39m,\u001b[38;5;124m'\u001b[39m\u001b[38;5;124mGPU\u001b[39m\u001b[38;5;124m'\u001b[39m,\u001b[38;5;124m'\u001b[39m\u001b[38;5;124mCategory\u001b[39m\u001b[38;5;124m'\u001b[39m]], y_test))\n",
            "\u001b[0;31mAttributeError\u001b[0m: 'GridSearchCV' object has no attribute 'best_estimator_'"
          ],
          "output_type": "error"
        }
      ],
      "execution_count": 38
    },
    {
      "cell_type": "markdown",
      "source": "<details><summary>Click here for the solution</summary>\n\n```python\nBestRR=Grid1.best_estimator_\nprint(BestRR.score(x_test[['CPU_frequency', 'RAM_GB', 'Storage_GB_SSD', 'CPU_core','OS','GPU','Category']], y_test))\n```\n</details>\n",
      "metadata": {}
    },
    {
      "cell_type": "markdown",
      "source": "# Congratulations! You have completed the lab\n",
      "metadata": {}
    },
    {
      "cell_type": "markdown",
      "source": "## Authors\n",
      "metadata": {}
    },
    {
      "cell_type": "markdown",
      "source": "[Abhishek Gagneja](https://www.coursera.org/instructor/~129186572)\n\n[Vicky Kuo](https://author.skills.network/instructors/vicky_kuo)\n",
      "metadata": {}
    },
    {
      "cell_type": "markdown",
      "source": "Copyright © 2023 IBM Corporation. All rights reserved.\n",
      "metadata": {}
    },
    {
      "cell_type": "markdown",
      "source": "<!--## Change Log\n",
      "metadata": {}
    },
    {
      "cell_type": "markdown",
      "source": "<!--|Date (YYYY-MM-DD)|Version|Changed By|Change Description|\n|-|-|-|-|\n|2023-09-16|0.1|Abhishek Gagneja|Initial Version Created|\n|2023-09-19|0.2|Vicky Kuo|Reviewed and Revised|\n--!>\n",
      "metadata": {}
    }
  ]
}